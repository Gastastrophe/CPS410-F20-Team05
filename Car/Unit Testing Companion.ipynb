{
 "cells": [
  {
   "cell_type": "code",
   "execution_count": 7,
   "metadata": {},
   "outputs": [
    {
     "name": "stderr",
     "output_type": "stream",
     "text": [
      "\n",
      "CommandNotFoundError: No command 'conda Python'.\n",
      "\n"
     ]
    }
   ],
   "source": []
  },
  {
   "cell_type": "code",
   "execution_count": 2,
   "metadata": {},
   "outputs": [],
   "source": [
    "import numpy as np\n",
    "\n",
    "def save_data(data, labels):\n",
    "    file_name = 'Data\\\\training_data_test.npz'\n",
    "    np.savez_compressed(file_name,data=data,labels=labels)"
   ]
  },
  {
   "cell_type": "code",
   "execution_count": null,
   "metadata": {
    "scrolled": true
   },
   "outputs": [
    {
     "name": "stdout",
     "output_type": "stream",
     "text": [
      "Generating image 0...\n",
      "Generating image 1...\n",
      "Generating image 2...\n",
      "Generating image 3...\n",
      "Generating image 4...\n",
      "Generating image 5...\n",
      "Generating image 6...\n",
      "Generating image 7...\n",
      "Generating image 8...\n",
      "Generating image 9...\n",
      "Generating image 10...\n",
      "Generating image 11...\n",
      "Generating image 12...\n",
      "Generating image 13...\n",
      "Generating image 14...\n",
      "Generating image 15...\n",
      "Generating image 16...\n",
      "Generating image 17...\n",
      "Generating image 18...\n",
      "Generating image 19...\n",
      "Generating image 20...\n",
      "Generating image 21...\n",
      "Generating image 22...\n",
      "Generating image 23...\n",
      "Generating image 24...\n",
      "Generating image 25...\n",
      "Generating image 26...\n",
      "Generating image 27...\n",
      "Generating image 28...\n",
      "Generating image 29...\n",
      "Generating image 30...\n",
      "Generating image 31...\n",
      "Generating image 32...\n",
      "Generating image 33...\n",
      "Generating image 34...\n",
      "Generating image 35...\n",
      "Generating image 36...\n",
      "Generating image 37...\n",
      "Generating image 38...\n",
      "Generating image 39...\n",
      "Generating image 40...\n",
      "Generating image 41...\n",
      "Generating image 42...\n",
      "Generating image 43...\n",
      "Generating image 44...\n",
      "Generating image 45...\n",
      "Generating image 46...\n",
      "Generating image 47...\n",
      "Generating image 48...\n",
      "Generating image 49...\n",
      "Generating image 50...\n",
      "Generating image 51...\n",
      "Generating image 52...\n",
      "Generating image 53...\n",
      "Generating image 54...\n",
      "Generating image 55...\n",
      "Generating image 56...\n",
      "Generating image 57...\n",
      "Generating image 58...\n",
      "Generating image 59...\n",
      "Generating image 60...\n",
      "Generating image 61...\n",
      "Generating image 62...\n",
      "Generating image 63...\n",
      "Generating image 64...\n",
      "Generating image 65...\n",
      "Generating image 66...\n",
      "Generating image 67...\n",
      "Generating image 68...\n",
      "Generating image 69...\n",
      "Generating image 70...\n",
      "Generating image 71...\n",
      "Generating image 72...\n",
      "Generating image 73...\n",
      "Generating image 74...\n",
      "Generating image 75...\n",
      "Generating image 76...\n",
      "Generating image 77...\n",
      "Generating image 78...\n",
      "Generating image 79...\n"
     ]
    }
   ],
   "source": [
    "data = []\n",
    "\n",
    "for n in range(80):\n",
    "    print(\"Generating image \" + str(n) + \"...\")\n",
    "    data.append([])\n",
    "    for i in range(5):\n",
    "        data[n].append([])\n",
    "        for j in range(270):\n",
    "            data[n][i].append([])\n",
    "            for k in range(480):\n",
    "                data[n][i][j].append([])\n",
    "                for l in range(3):\n",
    "                    data[n][i][j][k].append(float(np.random.randint(255)))\n",
    "                    \n",
    "data = np.array(data)\n",
    "\n",
    "print(data.shape)"
   ]
  },
  {
   "cell_type": "code",
   "execution_count": null,
   "metadata": {},
   "outputs": [],
   "source": [
    "labels = []\n",
    "\n",
    "for n in range(80):\n",
    "    print(\"Creating label \" + str(n) + \"...\")\n",
    "    labels.append([0,0,0,0,0,0,0,0,0])\n",
    "    i = np.random.choice(list(range(9)))\n",
    "    labels[n][i] = 1\n",
    "\n",
    "    \n",
    "labels = np.array(labels)\n",
    "print(labels.shape)"
   ]
  },
  {
   "cell_type": "code",
   "execution_count": null,
   "metadata": {},
   "outputs": [],
   "source": [
    "save_data(data, labels)"
   ]
  },
  {
   "cell_type": "code",
   "execution_count": null,
   "metadata": {},
   "outputs": [],
   "source": []
  }
 ],
 "metadata": {
  "kernelspec": {
   "display_name": "Python 3",
   "language": "python",
   "name": "python3"
  },
  "language_info": {
   "codemirror_mode": {
    "name": "ipython",
    "version": 3
   },
   "file_extension": ".py",
   "mimetype": "text/x-python",
   "name": "python",
   "nbconvert_exporter": "python",
   "pygments_lexer": "ipython3",
   "version": "3.7.3"
  }
 },
 "nbformat": 4,
 "nbformat_minor": 2
}
